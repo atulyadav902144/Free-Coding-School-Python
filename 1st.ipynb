{
  "nbformat": 4,
  "nbformat_minor": 0,
  "metadata": {
    "colab": {
      "name": "1st",
      "provenance": [],
      "authorship_tag": "ABX9TyP9yS5wCclL24tmV14hPADC",
      "include_colab_link": true
    },
    "kernelspec": {
      "name": "python3",
      "display_name": "Python 3"
    }
  },
  "cells": [
    {
      "cell_type": "markdown",
      "metadata": {
        "id": "view-in-github",
        "colab_type": "text"
      },
      "source": [
        "<a href=\"https://colab.research.google.com/github/atulyadav902144/Free-Coding-School-Python/blob/master/1st.ipynb\" target=\"_parent\"><img src=\"https://colab.research.google.com/assets/colab-badge.svg\" alt=\"Open In Colab\"/></a>"
      ]
    },
    {
      "cell_type": "code",
      "metadata": {
        "id": "4NOFdl6AuTVM",
        "colab_type": "code",
        "colab": {
          "base_uri": "https://localhost:8080/",
          "height": 34
        },
        "outputId": "c77ea4b4-c7aa-440c-b835-8c9f433257d6"
      },
      "source": [
        "print(\"hello\")"
      ],
      "execution_count": null,
      "outputs": [
        {
          "output_type": "stream",
          "text": [
            "hello\n"
          ],
          "name": "stdout"
        }
      ]
    },
    {
      "cell_type": "code",
      "metadata": {
        "id": "NnThoi4Zvi4-",
        "colab_type": "code",
        "colab": {}
      },
      "source": [
        "class car():  \n",
        "   \n",
        "   def __init__(self,carno,car_color,car_model):\n",
        "     self.carno=carno\n",
        "     self.car_color = car_color\n",
        "     self.car_model =car_model\n",
        "\n",
        "   def some_method(self) :\n",
        "    print(self.carno)\n",
        "    print(self.car_color)\n",
        "    print(self.car_model)"
      ],
      "execution_count": null,
      "outputs": []
    },
    {
      "cell_type": "code",
      "metadata": {
        "id": "o1sNynSLxLnZ",
        "colab_type": "code",
        "colab": {}
      },
      "source": [
        "maruti=car(1,'blue','1525Af')"
      ],
      "execution_count": null,
      "outputs": []
    },
    {
      "cell_type": "code",
      "metadata": {
        "id": "vDdwtHPDyIO6",
        "colab_type": "code",
        "colab": {
          "base_uri": "https://localhost:8080/",
          "height": 68
        },
        "outputId": "1daec4fd-f168-47f9-c1f3-6237f5f66366"
      },
      "source": [
        "maruti.some_method()"
      ],
      "execution_count": null,
      "outputs": [
        {
          "output_type": "stream",
          "text": [
            "1\n",
            "blue\n",
            "1525Af\n"
          ],
          "name": "stdout"
        }
      ]
    },
    {
      "cell_type": "code",
      "metadata": {
        "id": "J5JEFb1GyapT",
        "colab_type": "code",
        "colab": {
          "base_uri": "https://localhost:8080/",
          "height": 35
        },
        "outputId": "381f9cf5-a3c4-4ea0-bff2-41fc4b73e18f"
      },
      "source": [
        "maruti.car_model"
      ],
      "execution_count": null,
      "outputs": [
        {
          "output_type": "execute_result",
          "data": {
            "application/vnd.google.colaboratory.intrinsic": {
              "type": "string"
            },
            "text/plain": [
              "'1525Af'"
            ]
          },
          "metadata": {
            "tags": []
          },
          "execution_count": 16
        }
      ]
    },
    {
      "cell_type": "code",
      "metadata": {
        "id": "O_a0phpmzBrm",
        "colab_type": "code",
        "colab": {}
      },
      "source": [
        "class man():\n",
        "    \n",
        "    def __init__(self,age,color,gender):\n",
        "      self.age=age\n",
        "      self.color=color\n",
        "      self.gender=gender\n",
        "\n",
        "    def details(self):\n",
        "      print(self.age)\n",
        "      print(self.color)\n",
        "      print(self.gender)  \n"
      ],
      "execution_count": null,
      "outputs": []
    },
    {
      "cell_type": "code",
      "metadata": {
        "id": "RBQ1CN4s0Vb5",
        "colab_type": "code",
        "colab": {}
      },
      "source": [
        "class baby(man):\n",
        "    \n",
        "    def __init__(self,age,height,gender):\n",
        "      self.age=age\n",
        "      self.height=height\n",
        "      self.gender=gender\n",
        "\n",
        "    def methods(self):\n",
        "      print(self.age)\n",
        "      print(self.height)\n",
        "      print(self.gender)  \n",
        "      man.__init__(self,10,'blue','1525541AG')\n"
      ],
      "execution_count": null,
      "outputs": []
    },
    {
      "cell_type": "code",
      "metadata": {
        "id": "utKb1S012IXO",
        "colab_type": "code",
        "colab": {}
      },
      "source": [
        "bon=baby(20,15,'male')"
      ],
      "execution_count": null,
      "outputs": []
    },
    {
      "cell_type": "code",
      "metadata": {
        "id": "fd4ZH5p-2Q7_",
        "colab_type": "code",
        "colab": {
          "base_uri": "https://localhost:8080/",
          "height": 34
        },
        "outputId": "f2d8a8d3-a60e-4f62-ac2b-c9ab326207dc"
      },
      "source": [
        "bon.age"
      ],
      "execution_count": null,
      "outputs": [
        {
          "output_type": "execute_result",
          "data": {
            "text/plain": [
              "20"
            ]
          },
          "metadata": {
            "tags": []
          },
          "execution_count": 37
        }
      ]
    },
    {
      "cell_type": "code",
      "metadata": {
        "id": "9b6Z71Ff2Ved",
        "colab_type": "code",
        "colab": {
          "base_uri": "https://localhost:8080/",
          "height": 68
        },
        "outputId": "d9c64dbe-7c14-4308-be9a-d67f9dc52d03"
      },
      "source": [
        "bon.methods()\n"
      ],
      "execution_count": null,
      "outputs": [
        {
          "output_type": "stream",
          "text": [
            "20\n",
            "15\n",
            "male\n"
          ],
          "name": "stdout"
        }
      ]
    },
    {
      "cell_type": "code",
      "metadata": {
        "id": "AEvscGMF2Vpm",
        "colab_type": "code",
        "colab": {
          "base_uri": "https://localhost:8080/",
          "height": 68
        },
        "outputId": "35bf711a-3851-48df-a026-903495746d82"
      },
      "source": [
        "bon.details()"
      ],
      "execution_count": null,
      "outputs": [
        {
          "output_type": "stream",
          "text": [
            "10\n",
            "blue\n",
            "1525541AG\n"
          ],
          "name": "stdout"
        }
      ]
    }
  ]
}